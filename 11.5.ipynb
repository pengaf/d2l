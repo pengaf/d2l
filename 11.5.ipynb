{
 "cells": [
  {
   "cell_type": "code",
   "execution_count": 3,
   "metadata": {},
   "outputs": [],
   "source": [
    "import torch\n",
    "import math\n",
    "\n",
    "def sequence_mask(x, valid_lens, value=0):\n",
    "    max_len = x.size(1)\n",
    "    mask = torch.arange(max_len, dtype=torch.float32,device=x.device)[None,:]<valid_lens[:,None]\n",
    "    x[~mask] = value\n",
    "    return x\n",
    "\n",
    "def masked_softmax(x, valid_lens):\n",
    "    if valid_lens is None:\n",
    "        return torch.softmax(x,dim=-1)\n",
    "    else:\n",
    "        shape = x.shape\n",
    "        if valid_lens.dim() == 1:\n",
    "            valid_lens = torch.repeat_interleave(valid_lens, shape[1])\n",
    "        else:\n",
    "            valid_lens = valid_lens.reshape(-1)\n",
    "        x = sequence_mask(x.reshape(-1, shape[-1]), valid_lens, -1e6)\n",
    "        return torch.softmax(x.reshape(shape),dim=-1)\n",
    "    \n",
    "class DotProductAttention(torch.nn.Module):\n",
    "    def __init__(self, dropout, **kwargs) -> None:\n",
    "        super().__init__(**kwargs)\n",
    "        self.dropout = torch.nn.Dropout(dropout)\n",
    "    \n",
    "    def forward(self, queries, keys, values, valid_lens):\n",
    "        d= queries.size(-1)\n",
    "        scores = torch.bmm(queries, keys.transpose(1,2))/math.sqrt(d)\n",
    "        self.attention_weights = masked_softmax(scores, valid_lens)\n",
    "        return torch.bmm(self.dropout(self.attention_weights),values)\n",
    "\n"
   ]
  },
  {
   "cell_type": "code",
   "execution_count": null,
   "metadata": {},
   "outputs": [],
   "source": [
    "\n",
    "def transpose_qkv(x, num_heads):\n",
    "    print(x.is_contiguous(),x.data_ptr())\n",
    "    x = x.reshape(x.shape[0], x.shape[1], num_heads, -1)\n",
    "    print(x.is_contiguous(),x.data_ptr())\n",
    "    x = x.permute(0,2,1,3)\n",
    "    print(x.is_contiguous(),x.data_ptr())\n",
    "    x = x.reshape(-1,x.shape[2],x.shape[3])\n",
    "    print(x.is_contiguous(),x.data_ptr())\n",
    "    return x\n",
    "\n",
    "def transpose_output(x, num_heads):\n",
    "    x = x.reshape(-1, num_heads, x.shape[1], x.shape[2])\n",
    "    x = x.permute(0,2,1,3)\n",
    "    x = x.reshape(x.shape[0],x.shape[1],-1)\n",
    "    return x\n",
    "\n",
    "\n",
    "x = torch.rand((2,3,4))\n",
    "y = transpose_qkv(x,2)\n",
    "#x.shape,y.shape\n"
   ]
  },
  {
   "cell_type": "code",
   "execution_count": 25,
   "metadata": {},
   "outputs": [],
   "source": [
    "class MultiHeadAttention(torch.nn.Module):\n",
    "    def __init__(self, query_size, key_size, value_size, hidden_size, num_heads, dropout, bias=False, **kwargs) -> None:\n",
    "        super().__init__(**kwargs)\n",
    "        self.num_heads = num_heads\n",
    "        self.attention = DotProductAttention(dropout)\n",
    "        self.w_q = torch.nn.Linear(query_size, hidden_size, bias=bias)\n",
    "        self.w_k = torch.nn.Linear(key_size, hidden_size, bias=bias)\n",
    "        self.w_v = torch.nn.Linear(value_size, hidden_size, bias=bias)\n",
    "        self.w_o = torch.nn.Linear(hidden_size, hidden_size, bias=bias)\n",
    "\n",
    "    def forward(self, queries, keys, values, valid_lens):\n",
    "        queries = transpose_qkv(self.w_q(queries), self.num_heads)\n",
    "        keys = transpose_qkv(self.w_k(keys), self.num_heads)\n",
    "        values = transpose_qkv(self.w_v(values), self.num_heads)\n",
    "\n",
    "        if valid_lens is not None:\n",
    "            valid_lens = torch.repeat_interleave(valid_lens,repeats = self.num_heads, dim = 0)\n",
    "\n",
    "        output = self.attention(queries, keys, values, valid_lens)\n",
    "        output_concat = transpose_output(output, self.num_heads)\n",
    "        return self.w_o(output_concat)\n"
   ]
  },
  {
   "cell_type": "code",
   "execution_count": 26,
   "metadata": {},
   "outputs": [
    {
     "data": {
      "text/plain": [
       "MultiHeadAttention(\n",
       "  (attention): DotProductAttention(\n",
       "    (dropout): Dropout(p=0.5, inplace=False)\n",
       "  )\n",
       "  (w_q): Linear(in_features=100, out_features=100, bias=False)\n",
       "  (w_k): Linear(in_features=100, out_features=100, bias=False)\n",
       "  (w_v): Linear(in_features=100, out_features=100, bias=False)\n",
       "  (w_o): Linear(in_features=100, out_features=100, bias=False)\n",
       ")"
      ]
     },
     "execution_count": 26,
     "metadata": {},
     "output_type": "execute_result"
    }
   ],
   "source": [
    "num_hiddens, num_heads = 100, 5\n",
    "attention = MultiHeadAttention(num_hiddens, num_hiddens, num_hiddens,\n",
    "                               num_hiddens, num_heads, 0.5)\n",
    "attention.eval()"
   ]
  },
  {
   "cell_type": "code",
   "execution_count": 29,
   "metadata": {},
   "outputs": [
    {
     "name": "stdout",
     "output_type": "stream",
     "text": [
      "<built-in method contiguous of Tensor object at 0x0000024F3E34C450>\n",
      "<built-in method contiguous of Tensor object at 0x0000024F3E1E76A0>\n",
      "<built-in method contiguous of Tensor object at 0x0000024F3E34FE20>\n",
      "<built-in method contiguous of Tensor object at 0x0000024F3E1E76A0>\n",
      "<built-in method contiguous of Tensor object at 0x0000024F3E34C450>\n",
      "<built-in method contiguous of Tensor object at 0x0000024F3E34FE20>\n",
      "<built-in method contiguous of Tensor object at 0x0000024F3E34DEE0>\n",
      "<built-in method contiguous of Tensor object at 0x0000024F3E34FE20>\n",
      "<built-in method contiguous of Tensor object at 0x0000024F3E34C450>\n",
      "<built-in method contiguous of Tensor object at 0x0000024F3E34DEE0>\n",
      "<built-in method contiguous of Tensor object at 0x0000024F3E34CEA0>\n",
      "<built-in method contiguous of Tensor object at 0x0000024F3E34DEE0>\n"
     ]
    },
    {
     "data": {
      "text/plain": [
       "torch.Size([2, 4, 100])"
      ]
     },
     "execution_count": 29,
     "metadata": {},
     "output_type": "execute_result"
    }
   ],
   "source": [
    "batch_size, num_queries = 2, 4\n",
    "num_kvpairs, valid_lens =  6, torch.tensor([3, 2])\n",
    "X = torch.ones((batch_size, num_queries, num_hiddens))\n",
    "Y = torch.ones((batch_size, num_kvpairs, num_hiddens))\n",
    "attention(X, Y, Y, valid_lens).shape"
   ]
  }
 ],
 "metadata": {
  "kernelspec": {
   "display_name": "Python 3",
   "language": "python",
   "name": "python3"
  },
  "language_info": {
   "codemirror_mode": {
    "name": "ipython",
    "version": 3
   },
   "file_extension": ".py",
   "mimetype": "text/x-python",
   "name": "python",
   "nbconvert_exporter": "python",
   "pygments_lexer": "ipython3",
   "version": "3.10.5"
  }
 },
 "nbformat": 4,
 "nbformat_minor": 2
}
