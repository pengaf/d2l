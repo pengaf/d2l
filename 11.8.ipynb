{
 "cells": [
  {
   "cell_type": "code",
   "execution_count": 8,
   "metadata": {},
   "outputs": [],
   "source": [
    "import torch\n",
    "import d2l\n",
    "\n",
    "class PatchEmbedding(torch.nn.Module):\n",
    "    def __init__(self, image_size, patch_size, hidden_size, image_channels=3):\n",
    "        super().__init__()\n",
    "        def make_tuple(x):\n",
    "            if not isinstance(x, (list, tuple)):\n",
    "                return (x,x)\n",
    "            else:\n",
    "                return x\n",
    "        image_size = make_tuple(image_size)\n",
    "        patch_size = make_tuple(patch_size)\n",
    "\n",
    "        self.num_patches = (image_size[0] // patch_size[0])*(image_size[1] // patch_size[1])\n",
    "        self.conv = torch.nn.Conv2d(image_channels, hidden_size, patch_size,  patch_size)\n",
    "    \n",
    "    def forward(self, x):\n",
    "        return self.conv(x).flatten(2).transpose(1,2)\n",
    "        "
   ]
  },
  {
   "cell_type": "code",
   "execution_count": 6,
   "metadata": {},
   "outputs": [
    {
     "data": {
      "text/plain": [
       "(torch.Size([4, 3, 96, 96]), torch.Size([4, 36, 512]))"
      ]
     },
     "execution_count": 6,
     "metadata": {},
     "output_type": "execute_result"
    }
   ],
   "source": [
    "image_size, patch_size, hidden_size, batch_size = 96, 16, 512, 4\n",
    "patch_emb = PatchEmbedding(image_size, patch_size, hidden_size)\n",
    "x = torch.zeros(batch_size, 3, image_size, image_size)\n",
    "y = patch_emb(x)\n",
    "x.shape,y.shape"
   ]
  },
  {
   "cell_type": "code",
   "execution_count": 7,
   "metadata": {},
   "outputs": [],
   "source": [
    "class ViTMLP(torch.nn.Module):\n",
    "    def __init__(self, input_size, hidden_size, output_size, dropout=0.5):\n",
    "        super().__init__()\n",
    "        self.dense1 = torch.nn.Linear(input_size, hidden_size)\n",
    "        self.gelu = torch.nn.GELU()\n",
    "        self.dropout1 = torch.nn.Dropout(dropout)\n",
    "        self.dense2 = torch.nn.Linear(hidden_size, output_size)\n",
    "        self.dropout2 = torch.nn.Dropout(dropout)\n",
    "\n",
    "    def forward(self, x):\n",
    "        return self.dropout2(self.dense2(self.dropout1(self.gelu(self.dense1(x)))))"
   ]
  },
  {
   "cell_type": "code",
   "execution_count": 9,
   "metadata": {},
   "outputs": [],
   "source": [
    "class ViTBlock(torch.nn.Module):\n",
    "    def __init__(self, hidden_size, num_heads, norm_shape, mlp_hidden_size, dropout, use_bias=False):\n",
    "        super().__init__()\n",
    "        self.ln1 = torch.nn.LayerNorm(norm_shape)\n",
    "        self.attention = d2l.MultiHeadAttention(hidden_size,num_heads,dropout,use_bias)\n",
    "        self.ln2 = torch.nn.LayerNorm(norm_shape)\n",
    "        self.mlp = ViTMLP(hidden_size, mlp_hidden_size, hidden_size, dropout)\n",
    "\n",
    "    def forward(self, x, valid_lens=None):\n",
    "        x = x + self.attention(*([self.ln1(x)]*3), valid_lens)\n",
    "        return x + self.mlp(self.ln2(x))\n",
    "    "
   ]
  },
  {
   "cell_type": "code",
   "execution_count": 10,
   "metadata": {},
   "outputs": [
    {
     "data": {
      "text/plain": [
       "(torch.Size([2, 100, 24]), torch.Size([2, 100, 24]))"
      ]
     },
     "execution_count": 10,
     "metadata": {},
     "output_type": "execute_result"
    }
   ],
   "source": [
    "x = torch.ones((2, 100, 24))\n",
    "encoder_blk = ViTBlock(24, 8, 24, 48, 0.5)\n",
    "encoder_blk.eval()\n",
    "y=encoder_blk(x)\n",
    "x.shape, y.shape"
   ]
  },
  {
   "cell_type": "code",
   "execution_count": 31,
   "metadata": {},
   "outputs": [],
   "source": [
    "class ViT(torch.nn.Module):\n",
    "    def __init__(self, image_size, patch_size, hidden_size, num_heads, mlp_hidden_size, num_blocks, emb_dropout, block_dropout, use_bias=False, num_classes=10):\n",
    "        super().__init__()\n",
    "        self.embedding = PatchEmbedding(image_size, patch_size, hidden_size)\n",
    "        self.cls_token = torch.nn.Parameter(torch.zeros(1, 1 , hidden_size))\n",
    "        num_steps = self.embedding.num_patches + 1\n",
    "        self.pos_embedding = torch.nn.Parameter(torch.randn(1, num_steps, hidden_size))\n",
    "        self.dropout = torch.nn.Dropout(emb_dropout) \n",
    "        self.blocks = torch.nn.Sequential()\n",
    "        for i in range(num_blocks):\n",
    "            self.blocks.add_module(\"block\"+str(i), ViTBlock(hidden_size, num_heads, hidden_size, mlp_hidden_size, block_dropout, use_bias))\n",
    "        self.head = torch.nn.Sequential(torch.nn.LayerNorm(hidden_size), torch.nn.Linear(hidden_size, num_classes))\n",
    "\n",
    "    def forward(self, x):\n",
    "        x = self.embedding(x)\n",
    "        x = torch.cat((self.cls_token.expand(x.shape[0], -1, -1), x), 1)\n",
    "        x = self.dropout(x + self.pos_embedding)\n",
    "        for block in self.blocks:\n",
    "            x = block(x)\n",
    "        print(x.shape,x[:,0].shape) \n",
    "        return self.head(x[:,0])"
   ]
  },
  {
   "cell_type": "code",
   "execution_count": 32,
   "metadata": {},
   "outputs": [
    {
     "name": "stdout",
     "output_type": "stream",
     "text": [
      "torch.Size([1, 37, 512]) torch.Size([1, 512])\n"
     ]
    },
    {
     "data": {
      "text/plain": [
       "(torch.Size([1, 3, 96, 96]), torch.Size([1, 10]))"
      ]
     },
     "execution_count": 32,
     "metadata": {},
     "output_type": "execute_result"
    }
   ],
   "source": [
    "image_size, patch_size = 96, 16\n",
    "hidden_size, num_heads, mlp_hidden_size,  num_blocks = 512, 8, 2048, 2\n",
    "emb_dropout, blk_dropout  = 0.1, 0.1\n",
    "vit = ViT(image_size, patch_size, hidden_size, num_heads, mlp_hidden_size,  num_blocks, emb_dropout, blk_dropout)\n",
    "x = torch.ones(1,3,image_size,image_size)\n",
    "y = vit(x)\n",
    "x.shape, y.shape"
   ]
  },
  {
   "cell_type": "code",
   "execution_count": 38,
   "metadata": {},
   "outputs": [
    {
     "data": {
      "text/plain": [
       "tensor([[[2., 2., 2., 2., 2., 2., 2., 2.],\n",
       "         [2., 2., 2., 2., 2., 2., 2., 2.],\n",
       "         [2., 2., 2., 2., 2., 2., 2., 2.],\n",
       "         [2., 2., 2., 2., 2., 2., 2., 2.],\n",
       "         [2., 2., 2., 2., 2., 2., 2., 2.],\n",
       "         [2., 2., 2., 2., 2., 2., 2., 2.],\n",
       "         [2., 2., 2., 2., 2., 2., 2., 2.],\n",
       "         [2., 2., 2., 2., 2., 2., 2., 2.],\n",
       "         [2., 2., 2., 2., 2., 2., 2., 2.],\n",
       "         [2., 2., 2., 2., 2., 2., 2., 2.]],\n",
       "\n",
       "        [[2., 2., 2., 2., 2., 2., 2., 2.],\n",
       "         [2., 2., 2., 2., 2., 2., 2., 2.],\n",
       "         [2., 2., 2., 2., 2., 2., 2., 2.],\n",
       "         [2., 2., 2., 2., 2., 2., 2., 2.],\n",
       "         [2., 2., 2., 2., 2., 2., 2., 2.],\n",
       "         [2., 2., 2., 2., 2., 2., 2., 2.],\n",
       "         [2., 2., 2., 2., 2., 2., 2., 2.],\n",
       "         [2., 2., 2., 2., 2., 2., 2., 2.],\n",
       "         [2., 2., 2., 2., 2., 2., 2., 2.],\n",
       "         [2., 2., 2., 2., 2., 2., 2., 2.]]])"
      ]
     },
     "execution_count": 38,
     "metadata": {},
     "output_type": "execute_result"
    }
   ],
   "source": [
    "a = torch.ones(1,1,8)\n",
    "b = torch.ones(2,10,8)\n",
    "\n",
    "a+b\n",
    "#torch.cat((a,b),1)"
   ]
  }
 ],
 "metadata": {
  "kernelspec": {
   "display_name": "Python 3",
   "language": "python",
   "name": "python3"
  },
  "language_info": {
   "codemirror_mode": {
    "name": "ipython",
    "version": 3
   },
   "file_extension": ".py",
   "mimetype": "text/x-python",
   "name": "python",
   "nbconvert_exporter": "python",
   "pygments_lexer": "ipython3",
   "version": "3.10.5"
  }
 },
 "nbformat": 4,
 "nbformat_minor": 2
}
